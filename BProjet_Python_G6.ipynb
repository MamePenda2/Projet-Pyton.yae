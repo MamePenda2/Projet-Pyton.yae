{
 "cells": [
  {
   "cell_type": "markdown",
   "metadata": {},
   "source": [
    "# Exposant\n"
   ]
  },
  {
   "cell_type": "markdown",
   "metadata": {},
   "source": [
    "## Haby Sow<span style=\"color:red\">---</span> Mame Penda Leye.\n"
   ]
  },
  {
   "cell_type": "markdown",
   "metadata": {},
   "source": [
    "## Awa Ba<span style=\"color:red\"> ---</span>Binetou Lô   "
   ]
  },
  {
   "cell_type": "markdown",
   "metadata": {},
   "source": [
    "## Ndeye Seye Diop<span style=\"color:red\"> ---</span>Racky Diallo"
   ]
  },
  {
   "cell_type": "markdown",
   "metadata": {},
   "source": [
    "## Kalidou Aliou Ball<span style=\"color:red\"> ---</span>Babacar Diaw        "
   ]
  },
  {
   "cell_type": "markdown",
   "metadata": {},
   "source": [
    "<html>\n",
    " <head>\n",
    "  <title> Ma Page </title>\n",
    " </head>\n",
    "<body bgcolor=\"green\" background=\"./test.jpg\">\n",
    "<center> <b> <u> <i> Project 4. Capitalize It </i> </u> </b> </center> </body>\n",
    "</html>"
   ]
  },
  {
   "cell_type": "markdown",
   "metadata": {},
   "source": [
    "Many people do not use capital letters correctly, especially when typing on small devices like\n",
    "smart phones. In this exercise, you will write a function that capitalizes the appropriate charac\u0002ters in a string. A lowercase “i” should be replaced with an uppercase “I” if it is both preceded\n",
    "and followed by a space. The first character in the string should also be capitalized, as well as\n",
    "the first non-space character after a “.\", “!\" or “?\". For example, if the function is provided with\n",
    "the string"
   ]
  },
  {
   "cell_type": "markdown",
   "metadata": {},
   "source": [
    "#### what time do i have to be there?what’s the address!mmmmmmmm"
   ]
  },
  {
   "cell_type": "markdown",
   "metadata": {},
   "source": [
    "then it should return the string"
   ]
  },
  {
   "cell_type": "markdown",
   "metadata": {},
   "source": [
    "#### What time do I have to be there? What’s the address\n",
    "\n"
   ]
  },
  {
   "cell_type": "markdown",
   "metadata": {},
   "source": [
    "# 1"
   ]
  },
  {
   "cell_type": "markdown",
   "metadata": {},
   "source": [
    "# presentation des expressions et fonctions utiliser"
   ]
  },
  {
   "cell_type": "raw",
   "metadata": {},
   "source": [
    "input: Permet de saisir des données\n",
    "\n",
    "def: Nous permet de definir une fonction\n",
    "\n",
    "global : Permet de definir une variable en variable global qui est réeutilisable apres dans le code\n",
    "\n",
    "la boucle for: Permet de faire des itéraions\n",
    "\n",
    "les conditions if et elif: Nous permettent de définir nos conditions\n",
    "\n",
    "replace(): Permet de remplacer un mot ou une lettre dans une chaine de caractére\n",
    "\n",
    "islower: Permet de verifier si une lettre ou un mot est en minuscule\n",
    "\n",
    "upper(): Permet de mettre une lettre en majuscule\n",
    "\n",
    "isspace(): Permet de verifier si il y a unespace apres un caractere donnée puis renvoie True"
   ]
  },
  {
   "cell_type": "markdown",
   "metadata": {},
   "source": [
    "# 2"
   ]
  },
  {
   "cell_type": "markdown",
   "metadata": {},
   "source": [
    "# Exécution des codes"
   ]
  },
  {
   "cell_type": "code",
   "execution_count": 24,
   "metadata": {},
   "outputs": [
    {
     "name": "stdout",
     "output_type": "stream",
     "text": [
      "Entrez votre chaine:what time do i have to be there?what’s the address!mmmmmmmm\n"
     ]
    }
   ],
   "source": [
    "#Tester n'importe quelle phrase\n",
    "chaine=input('Entrez votre chaine:') "
   ]
  },
  {
   "cell_type": "markdown",
   "metadata": {},
   "source": [
    "# Correction du text"
   ]
  },
  {
   "cell_type": "markdown",
   "metadata": {},
   "source": [
    "### Transformation de la premiere lettre du text en Majuscule."
   ]
  },
  {
   "cell_type": "code",
   "execution_count": 25,
   "metadata": {},
   "outputs": [],
   "source": [
    "#on remplace les 1er lettres de la phrases par une majuscule\n",
    "#chaine=input('Entrer une phrase: ')\n",
    "def capitalFirstCaracter():\n",
    "    global chaine\n",
    "    for k in range(0, len(chaine)):\n",
    "        if chaine[0].islower():\n",
    "            new_chaine=chaine[0].upper()\n",
    "            chaine=new_chaine + chaine[1:]\n",
    "        elif chaine[0]==\" \": #Dans le cas ou ou l'utilisateur tape par erreur un espace en debut de prase \n",
    "            new_chaine=chaine[1].upper()\n",
    "            chaine=new_chaine + chaine[2:]\n",
    "    return chaine"
   ]
  },
  {
   "cell_type": "markdown",
   "metadata": {},
   "source": [
    "Appel à la fonction"
   ]
  },
  {
   "cell_type": "code",
   "execution_count": 26,
   "metadata": {},
   "outputs": [
    {
     "data": {
      "text/plain": [
       "'What time do i have to be there?what’s the address!mmmmmmmm'"
      ]
     },
     "execution_count": 26,
     "metadata": {},
     "output_type": "execute_result"
    }
   ],
   "source": [
    "capitalFirstCaracter()"
   ]
  },
  {
   "cell_type": "markdown",
   "metadata": {},
   "source": [
    "### Mettre les i précéde et suivi par un espace en Majuscule"
   ]
  },
  {
   "cell_type": "code",
   "execution_count": 27,
   "metadata": {},
   "outputs": [],
   "source": [
    "#Mettre les i précéde et suivi par un espace\n",
    "def capitalI():\n",
    "    global chaine\n",
    "    for k in range(0,len(chaine)):\n",
    "        \n",
    "        if (chaine[k]==\"i\"):\n",
    "            if (chaine[k-1]==\" \"):\n",
    "                if (chaine[k+1]==\" \"):\n",
    "                    #cap=chaine[k].replace('i', 'I')\n",
    "                    chaine=chaine[0:k] + chaine[k].replace('i', 'I') + chaine[k+1:]\n",
    "    return chaine    "
   ]
  },
  {
   "cell_type": "code",
   "execution_count": 28,
   "metadata": {},
   "outputs": [
    {
     "data": {
      "text/plain": [
       "'What time do I have to be there?what’s the address!mmmmmmmm'"
      ]
     },
     "execution_count": 28,
     "metadata": {},
     "output_type": "execute_result"
    }
   ],
   "source": [
    "capitalI()"
   ]
  },
  {
   "cell_type": "markdown",
   "metadata": {},
   "source": [
    "### Mettre les caractères apres les points '.','!','?' "
   ]
  },
  {
   "cell_type": "code",
   "execution_count": 29,
   "metadata": {},
   "outputs": [
    {
     "data": {
      "text/plain": [
       "'What time do I have to be there? What’s the address! Mmmmmmmm'"
      ]
     },
     "execution_count": 29,
     "metadata": {},
     "output_type": "execute_result"
    }
   ],
   "source": [
    "#chaine=input('Entrer une phrase: ')\n",
    "def capitalI(chaine):\n",
    "    #global chaine\n",
    "    for k in range(0,len(chaine)):\n",
    "        if (chaine[k]==\".\"):\n",
    "            chaine1=chaine[k+1].upper()\n",
    "            chaine=chaine[0:k+1] +\" \" + chaine1 +chaine[k+2:]\n",
    "                 \n",
    "        if (chaine[k]==\"!\"):\n",
    "            chaine1=chaine[k+1].upper()\n",
    "            chaine=chaine[0:k+1] +\" \" + chaine1 +chaine[k+2:]    \n",
    "            \n",
    "        if (chaine[k]==\"?\"):\n",
    "            chaine1=chaine[k+1].upper()\n",
    "            chaine=chaine[0:k+1] +\" \" + chaine1 +chaine[k+2:] \n",
    "     \n",
    "    return chaine  \n",
    "capitalI(chaine)"
   ]
  },
  {
   "cell_type": "markdown",
   "metadata": {},
   "source": [
    "<b>Dans cette etape, on reunit toutes les fonctions en une puis pour enfin appeller cette derniere dans la fonction principale:main</b>"
   ]
  },
  {
   "cell_type": "code",
   "execution_count": 1,
   "metadata": {},
   "outputs": [],
   "source": [
    "def Capital_IT(chaine):\n",
    "        #global chaine\n",
    "        #on remplace les 1er lettres de la phrases par une majuscule \n",
    "        for k in range(0,len(chaine)):\n",
    "            if chaine[0].islower():\n",
    "                new_chaine=chaine[0].upper()\n",
    "                chaine=new_chaine + chaine[1:]\n",
    "            elif chaine[0]==\" \": #Dans le cas ou ou l'utilisateur tape par erreur un espace en debut de prase \n",
    "                new_chaine=chaine[1].upper()\n",
    "                chaine=new_chaine + chaine[2:] \n",
    "                \n",
    "            #Mettre les i précéde et suivi par un espace    \n",
    "            if (chaine[k]==\"i\"):\n",
    "                if (chaine[k-1]==\" \"):\n",
    "                    if (chaine[k+1]==\" \"):\n",
    "                        #cap=chaine[k].replace('i', 'I')\n",
    "                        chaine=chaine[0:k] + chaine[k].replace('i', 'I') + chaine[k+1:]\n",
    "\n",
    "                                      \n",
    "           #Mettre un espace et apres un poit puis capitaliser le caractère suivant\n",
    "            if (chaine[k]==\".\"):\n",
    "                chaine1=chaine[k+1].upper()\n",
    "                chaine=chaine[0:k+1] +\" \" + chaine1 +chaine[k+2:]\n",
    "            if (chaine[k]==\"!\"):\n",
    "                chaine1=chaine[k+1].upper()\n",
    "                chaine=chaine[0:k+1] +\" \" + chaine1 +chaine[k+2:] \n",
    "            if (chaine[k]==\"?\"):\n",
    "                chaine1=chaine[k+1].upper()\n",
    "                chaine=chaine[0:k+1] +\" \" + chaine1 +chaine[k+2:]       \n",
    "                 \n",
    "        print(chaine)       "
   ]
  },
  {
   "cell_type": "code",
   "execution_count": 2,
   "metadata": {},
   "outputs": [],
   "source": [
    "def main():\n",
    "    chaine=input('Entrez votre chaine:')\n",
    "    capitalize=Capital_IT(chaine)\n",
    "    #print(chaine)"
   ]
  },
  {
   "cell_type": "code",
   "execution_count": 5,
   "metadata": {},
   "outputs": [
    {
     "name": "stdout",
     "output_type": "stream",
     "text": [
      "Entrez votre chaine: who are you??i am you !\n",
      "Who are you? ? I am you !\n"
     ]
    }
   ],
   "source": [
    "main()"
   ]
  },
  {
   "cell_type": "code",
   "execution_count": 4,
   "metadata": {},
   "outputs": [
    {
     "name": "stdout",
     "output_type": "stream",
     "text": [
      "Entrez votre chaine:proove?d! hdkjfgijkgvk,glgh.....Jbnsdkjri  i bb \n",
      "Proove? D!  hdkjfgijkgvk,glgh. . . . . Jbnsdkjri  i bb \n"
     ]
    }
   ],
   "source": [
    "main()"
   ]
  },
  {
   "cell_type": "markdown",
   "metadata": {},
   "source": [
    "#               <center> <b> <u> <i>  FIN DE PROJET </i> </u> </b> </center>                       "
   ]
  },
  {
   "cell_type": "code",
   "execution_count": null,
   "metadata": {},
   "outputs": [],
   "source": []
  },
  {
   "cell_type": "code",
   "execution_count": null,
   "metadata": {},
   "outputs": [],
   "source": []
  },
  {
   "cell_type": "code",
   "execution_count": null,
   "metadata": {},
   "outputs": [],
   "source": []
  },
  {
   "cell_type": "code",
   "execution_count": 11,
   "metadata": {},
   "outputs": [
    {
     "name": "stdout",
     "output_type": "stream",
     "text": [
      "Entrez votre chaine:what time do i have to be there?what’s the address ! mmmmmmmm\n"
     ]
    }
   ],
   "source": [
    "#Tester n'importe quelle phrase\n",
    "chaine=input('Entrez votre chaine:')"
   ]
  },
  {
   "cell_type": "code",
   "execution_count": 12,
   "metadata": {},
   "outputs": [],
   "source": [
    "def point():\n",
    "    global chaine\n",
    "    for i in range(len(chaine)):\n",
    "        if chaine[i]==\"?\" or chaine[i]==\".\" or chaine[i]==\"!\" and chaine[i+1].isspace()==True:\n",
    "            chaine=chaine[0:i+2]+chaine[i+2].upper()+chaine[i+3:]\n",
    "        elif chaine[i]==\"?\" or chaine[i]==\".\" or chaine[i]==\"!\":\n",
    "            chaine1=chaine[i+1].upper()\n",
    "            chaine=chaine[0:i+1] +\" \" + chaine1 +chaine[i+2:] \n",
    "    return chaine\n",
    "    "
   ]
  },
  {
   "cell_type": "code",
   "execution_count": 13,
   "metadata": {},
   "outputs": [
    {
     "data": {
      "text/plain": [
       "'what time do i have to be there?wHat’s the address ! Mmmmmmmm'"
      ]
     },
     "execution_count": 13,
     "metadata": {},
     "output_type": "execute_result"
    }
   ],
   "source": [
    "point()"
   ]
  },
  {
   "cell_type": "code",
   "execution_count": null,
   "metadata": {},
   "outputs": [],
   "source": []
  },
  {
   "cell_type": "code",
   "execution_count": null,
   "metadata": {},
   "outputs": [],
   "source": []
  }
 ],
 "metadata": {
  "kernelspec": {
   "display_name": "Python 3",
   "language": "python",
   "name": "python3"
  },
  "language_info": {
   "codemirror_mode": {
    "name": "ipython",
    "version": 3
   },
   "file_extension": ".py",
   "mimetype": "text/x-python",
   "name": "python",
   "nbconvert_exporter": "python",
   "pygments_lexer": "ipython3",
   "version": "3.7.3"
  }
 },
 "nbformat": 4,
 "nbformat_minor": 2
}
